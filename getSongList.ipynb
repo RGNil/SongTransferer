{
 "cells": [
  {
   "cell_type": "code",
   "execution_count": 15,
   "metadata": {},
   "outputs": [],
   "source": [
    "import requests,json\n",
    "import re\n",
    "from bs4 import BeautifulSoup "
   ]
  },
  {
   "cell_type": "code",
   "execution_count": 49,
   "metadata": {},
   "outputs": [],
   "source": [
    "list_url = \"https://y.qq.com/n/yqq/playlist/7628476949.html\"\n",
    "headers = {\n",
    "        'User-Agent': 'Mozilla/5.0 (Macintosh; Intel Mac OS X 10_15_1) AppleWebKit/537.36 (KHTML, like Gecko) Chrome/78.0.3904.108 Safari/537.36'\n",
    "    }\n",
    "response = requests.get(list_url, headers=headers)\n",
    "html_txt = response.text \n",
    "# 原本尝试抓json的，毕竟json处理起来easy，但是抓不到\n",
    "# json的地址不是上面的那个url，抓到的json 显示 invalid refere\n",
    "# 问了HFF，他说应该是 异步请求，防跨域的\n",
    "# 所以打算直接 正则匹配，提取 歌名 - 歌手\n",
    "# html_txt"
   ]
  },
  {
   "cell_type": "code",
   "execution_count": 60,
   "metadata": {},
   "outputs": [],
   "source": [
    "soup = BeautifulSoup(html_txt, 'html.parser')\n",
    "# soup.select('.songlist__list')\n",
    "# soup.find_all('ul', class_='songlist__list') # 与上面效果等同"
   ]
  },
  {
   "cell_type": "markdown",
   "metadata": {},
   "source": [
    "### 获取歌曲名字"
   ]
  },
  {
   "cell_type": "code",
   "execution_count": 61,
   "metadata": {},
   "outputs": [
    {
     "output_type": "execute_result",
     "data": {
      "text/plain": "[<span class=\"songlist__songname_txt\"><a href=\"javascript:;\" title=\"Youth (Acoustic)\">Youth (Acoustic)</a></span>,\n <span class=\"songlist__songname_txt\"><a href=\"javascript:;\" title=\"Hall of Fame\">Hall of Fame</a></span>,\n <span class=\"songlist__songname_txt\"><a href=\"javascript:;\" title=\"年少有为\">年少有为</a></span>,\n <span class=\"songlist__songname_txt\"><a href=\"javascript:;\" title=\"Fun\">Fun</a></span>,\n <span class=\"songlist__songname_txt\"><a href=\"javascript:;\" title=\"北京东路的日子\">北京东路的日子</a></span>]"
     },
     "metadata": {},
     "execution_count": 61
    }
   ],
   "source": [
    "soup.find_all('span', class_='songlist__songname_txt') # 注意是class_，不是class，因为class是python的关键字"
   ]
  },
  {
   "cell_type": "code",
   "execution_count": 59,
   "metadata": {},
   "outputs": [
    {
     "output_type": "execute_result",
     "data": {
      "text/plain": "['Youth (Acoustic)', 'Hall of Fame', '年少有为', 'Fun', '北京东路的日子']"
     },
     "metadata": {},
     "execution_count": 59
    }
   ],
   "source": [
    "song_name_list = [\n",
    "    song.string for song in soup.find_all('span', class_='songlist__songname_txt')\n",
    "] # string属性就可以获取指定标签的文本属性\n",
    "song_name_list"
   ]
  },
  {
   "cell_type": "markdown",
   "metadata": {},
   "source": [
    "### 获取歌手"
   ]
  },
  {
   "cell_type": "code",
   "execution_count": 70,
   "metadata": {},
   "outputs": [
    {
     "output_type": "execute_result",
     "data": {
      "text/plain": "[<a class=\"singer_name\" href=\"javascript:;\" title=\"Troye Sivan\">Troye Sivan</a>,\n <a class=\"singer_name\" href=\"javascript:;\" title=\"The Script\">The Script</a>,\n <a class=\"singer_name\" href=\"javascript:;\" title=\"will.i.am\">will.i.am</a>,\n <a class=\"singer_name\" href=\"javascript:;\" title=\"李荣浩\">李荣浩</a>,\n <a class=\"singer_name\" href=\"javascript:;\" title=\"Troye Sivan\">Troye Sivan</a>,\n <a class=\"singer_name\" href=\"javascript:;\" title=\"华语群星\">华语群星</a>]"
     },
     "metadata": {},
     "execution_count": 70
    }
   ],
   "source": [
    "soup.find_all('a', class_='singer_name')"
   ]
  },
  {
   "cell_type": "markdown",
   "metadata": {},
   "source": [
    "这种方法有一个问题，比如这里 Hall of fame 这首歌有多个歌手，如果依次对应上面的 歌曲名称列表，就会对应不上   \n",
    "扩大标签级别（找上一层标签）"
   ]
  },
  {
   "cell_type": "code",
   "execution_count": 71,
   "metadata": {},
   "outputs": [
    {
     "output_type": "execute_result",
     "data": {
      "text/plain": "[<div class=\"songlist__artist\">\n <a class=\"singer_name\" href=\"javascript:;\" title=\"Troye Sivan\">Troye Sivan</a>\n </div>,\n <div class=\"songlist__artist\">\n <a class=\"singer_name\" href=\"javascript:;\" title=\"The Script\">The Script</a>\n                                 \n                                 /\n \t\t\t\t\t<a class=\"singer_name\" href=\"javascript:;\" title=\"will.i.am\">will.i.am</a>\n </div>,\n <div class=\"songlist__artist\">\n <a class=\"singer_name\" href=\"javascript:;\" title=\"李荣浩\">李荣浩</a>\n </div>,\n <div class=\"songlist__artist\">\n <a class=\"singer_name\" href=\"javascript:;\" title=\"Troye Sivan\">Troye Sivan</a>\n </div>,\n <div class=\"songlist__artist\">\n <a class=\"singer_name\" href=\"javascript:;\" title=\"华语群星\">华语群星</a>\n </div>]"
     },
     "metadata": {},
     "execution_count": 71
    }
   ],
   "source": [
    "soup.find_all('div', class_='songlist__artist')"
   ]
  },
  {
   "cell_type": "code",
   "execution_count": 73,
   "metadata": {},
   "outputs": [
    {
     "output_type": "execute_result",
     "data": {
      "text/plain": "<div class=\"songlist__artist\">\n<a class=\"singer_name\" href=\"javascript:;\" title=\"Troye Sivan\">Troye Sivan</a>\n</div>"
     },
     "metadata": {},
     "execution_count": 73
    }
   ],
   "source": [
    "soup.find_all('div', class_='songlist__artist')[0]"
   ]
  },
  {
   "cell_type": "code",
   "execution_count": 74,
   "metadata": {},
   "outputs": [],
   "source": [
    "soup.find_all('div', class_='songlist__artist')[0].string # 可以看到为空，因为这个标签里面是一个 <a>标签，没有文本"
   ]
  },
  {
   "cell_type": "code",
   "execution_count": 77,
   "metadata": {},
   "outputs": [
    {
     "output_type": "execute_result",
     "data": {
      "text/plain": "<a class=\"singer_name\" href=\"javascript:;\" title=\"Troye Sivan\">Troye Sivan</a>"
     },
     "metadata": {},
     "execution_count": 77
    }
   ],
   "source": [
    "soup.find_all('div', class_='songlist__artist')[0].a"
   ]
  },
  {
   "cell_type": "code",
   "execution_count": 79,
   "metadata": {},
   "outputs": [
    {
     "output_type": "execute_result",
     "data": {
      "text/plain": "'Troye Sivan'"
     },
     "metadata": {},
     "execution_count": 79
    }
   ],
   "source": [
    "soup.find_all('div', class_='songlist__artist')[0].a.string"
   ]
  },
  {
   "cell_type": "code",
   "execution_count": 81,
   "metadata": {},
   "outputs": [
    {
     "output_type": "execute_result",
     "data": {
      "text/plain": "<div class=\"songlist__artist\">\n<a class=\"singer_name\" href=\"javascript:;\" title=\"The Script\">The Script</a>\n                                \n                                /\n\t\t\t\t\t<a class=\"singer_name\" href=\"javascript:;\" title=\"will.i.am\">will.i.am</a>\n</div>"
     },
     "metadata": {},
     "execution_count": 81
    }
   ],
   "source": [
    "soup.find_all('div', class_='songlist__artist')[1]"
   ]
  },
  {
   "cell_type": "code",
   "execution_count": 80,
   "metadata": {},
   "outputs": [
    {
     "output_type": "execute_result",
     "data": {
      "text/plain": "<a class=\"singer_name\" href=\"javascript:;\" title=\"The Script\">The Script</a>"
     },
     "metadata": {},
     "execution_count": 80
    }
   ],
   "source": [
    "soup.find_all('div', class_='songlist__artist')[1].a # 这样会丢失多余的<a>，只提取了一个"
   ]
  },
  {
   "cell_type": "markdown",
   "metadata": {},
   "source": [
    "那么有2种方法来提取对应歌手"
   ]
  },
  {
   "cell_type": "code",
   "execution_count": null,
   "metadata": {},
   "outputs": [],
   "source": [
    "for singer"
   ]
  }
 ],
 "metadata": {
  "language_info": {
   "codemirror_mode": {
    "name": "ipython",
    "version": 3
   },
   "file_extension": ".py",
   "mimetype": "text/x-python",
   "name": "python",
   "nbconvert_exporter": "python",
   "pygments_lexer": "ipython3",
   "version": 3
  },
  "orig_nbformat": 2,
  "kernelspec": {
   "name": "python_defaultSpec_1596602026957",
   "display_name": "Python 3.7.5 64-bit"
  }
 },
 "nbformat": 4,
 "nbformat_minor": 2
}