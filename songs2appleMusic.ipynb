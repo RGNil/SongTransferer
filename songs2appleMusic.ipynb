{
 "metadata": {
  "language_info": {
   "codemirror_mode": {
    "name": "ipython",
    "version": 3
   },
   "file_extension": ".py",
   "mimetype": "text/x-python",
   "name": "python",
   "nbconvert_exporter": "python",
   "pygments_lexer": "ipython3",
   "version": 3
  },
  "orig_nbformat": 2,
  "kernelspec": {
   "name": "python_defaultSpec_1596611068688",
   "display_name": "Python 3.7.5 64-bit"
  }
 },
 "nbformat": 4,
 "nbformat_minor": 2,
 "cells": [
  {
   "cell_type": "code",
   "execution_count": 92,
   "metadata": {},
   "outputs": [],
   "source": [
    "from selenium import webdriver\n",
    "from selenium.webdriver.common.action_chains import ActionChains # 模拟鼠标行为用的，不过这里没用到\n",
    "from selenium.webdriver.support.wait import WebDriverWait\n",
    "from selenium.webdriver.support import expected_conditions as EC\n",
    "from selenium.webdriver.common.by import By\n",
    "from bs4 import BeautifulSoup\n",
    "import os,re\n",
    "\n",
    "os.system('cp ./chromedriver /usr/local/bin')\n",
    "def scroll_chrome(driver):\n",
    "    for i in range(500,5000,500):\n",
    "        driver.execute_script(\"scrollTo(0,\"+str(i)+\")\")\n",
    "        time.sleep(0.5)"
   ]
  },
  {
   "cell_type": "code",
   "execution_count": 6,
   "metadata": {},
   "outputs": [],
   "source": [
    "tool_url = 'https://www.tunemymusic.com/zh-cn/'\n",
    "browser = webdriver.Chrome() # 设置浏览器驱动为chrome\n",
    "browser.get(tool_url) # 模拟打开网页\n",
    "browser.maximize_window()\n",
    "# 如果出现 报错\n",
    "# WebDriverException: Message: Can not connect to the Service chromedriver\n",
    "# 那就是 localhost配置的问题，我之前开了 switchhost，然后里面禁用了localhost\n",
    "# 参考： https://blog.csdn.net/shenshenruoxi/article/details/105659101\n",
    "# https://blog.csdn.net/chenlei_525/article/details/70209909\n",
    "# ummmm 然后好了之后，又出现\n",
    "# This version of ChromeDriver only supports Chrome version 79\n",
    "# 猜测应该是 浏览器升级了，驱动没升级\n",
    "# http://chromedriver.storage.googleapis.com/index.html 驱动下载地址"
   ]
  },
  {
   "cell_type": "code",
   "execution_count": 9,
   "metadata": {},
   "outputs": [],
   "source": [
    "browser.find_element_by_id('startButton').click() # 找到并点击开始按钮"
   ]
  },
  {
   "cell_type": "code",
   "execution_count": 12,
   "metadata": {},
   "outputs": [],
   "source": [
    "# browser.find_element_by_class_name('MusicServiceBlock FreeText OnlySource').click()"
   ]
  },
  {
   "cell_type": "code",
   "execution_count": 13,
   "metadata": {},
   "outputs": [],
   "source": [
    "browser.find_element_by_xpath('/html/body/div[6]/div[3]/div/div[2]/div[3]/div[17]').click() # 选择文本输入歌曲列表"
   ]
  },
  {
   "cell_type": "code",
   "execution_count": 15,
   "metadata": {},
   "outputs": [],
   "source": [
    "# browser.find_element_by_id('FreeTextInputSection').send_keys(\"abc\")"
   ]
  },
  {
   "cell_type": "code",
   "execution_count": 16,
   "metadata": {},
   "outputs": [],
   "source": [
    "browser.find_element_by_id('songText').send_keys('abcd') # 这种定位方式可以输入"
   ]
  },
  {
   "cell_type": "code",
   "execution_count": 19,
   "metadata": {},
   "outputs": [
    {
     "output_type": "execute_result",
     "data": {
      "text/plain": "'Youth (Acoustic) - Troye Sivan\\nHall of Fame - The Script & will.i.am\\n年少有为 - 李荣浩\\nFun - Troye Sivan\\n北京东路的日子 - 华语群星'"
     },
     "metadata": {},
     "execution_count": 19
    }
   ],
   "source": [
    "with open('./mySongList.txt', 'r') as f:\n",
    "    song_list  = f.read()\n",
    "song_list"
   ]
  },
  {
   "cell_type": "code",
   "execution_count": 21,
   "metadata": {},
   "outputs": [],
   "source": [
    "browser.find_element_by_id('songText').send_keys(song_list) # 模拟输入 歌曲 "
   ]
  },
  {
   "cell_type": "code",
   "execution_count": 22,
   "metadata": {},
   "outputs": [],
   "source": [
    "browser.find_element_by_id('FreeTextConfirmInput').click() # 点击 转换歌曲列表"
   ]
  },
  {
   "cell_type": "code",
   "execution_count": 23,
   "metadata": {},
   "outputs": [],
   "source": [
    "browser.find_element_by_id('Step2Next').click() # 点击 下一步"
   ]
  },
  {
   "cell_type": "code",
   "execution_count": 31,
   "metadata": {},
   "outputs": [],
   "source": [
    "browser.find_element_by_xpath('/html/body/div[6]/div[3]/div/div[4]/div[3]/div[2]').click() # 找到 apple music并点击，点击后会弹出新窗口"
   ]
  },
  {
   "cell_type": "code",
   "execution_count": 33,
   "metadata": {},
   "outputs": [],
   "source": [
    "browser.switch_to_window(browser.window_handles[1]) # 将窗口指向 新窗口句柄"
   ]
  },
  {
   "cell_type": "code",
   "execution_count": 34,
   "metadata": {},
   "outputs": [],
   "source": [
    "browser.find_element_by_id('LoginBtn').click() # 点击登陆 apple id"
   ]
  },
  {
   "cell_type": "markdown",
   "metadata": {},
   "source": [
    "这里需要登陆 apple id，建议手动输入（自动化也可以，但是id 和 密码 得内置在这个脚本里，不安全）"
   ]
  },
  {
   "cell_type": "code",
   "execution_count": 37,
   "metadata": {},
   "outputs": [],
   "source": [
    "browser.switch_to_window(browser.window_handles[0]) # 将窗口指回原本的窗口"
   ]
  },
  {
   "cell_type": "code",
   "execution_count": 38,
   "metadata": {},
   "outputs": [
    {
     "output_type": "execute_result",
     "data": {
      "text/plain": "<selenium.webdriver.remote.webelement.WebElement (session=\"affba668938a3ca874fe84a3755b34b5\", element=\"96515bbe-75f7-4152-a524-459b04947d7a\")>"
     },
     "metadata": {},
     "execution_count": 38
    }
   ],
   "source": [
    "#等待登陆完后 页面出现 ‘开始移动我的音乐’按钮 其元素可见\n",
    "# 参考：https://www.cnblogs.com/wanghuijie1/p/11988472.html\n",
    "# https://www.cnblogs.com/xiao-xue-di/p/11531917.html\n",
    "ele_id = \"Step4Next\"\n",
    "param = (By.ID,ele_id)\n",
    "WebDriverWait(browser,10).until(EC.visibility_of_element_located(param)) # 等待该元素出现"
   ]
  },
  {
   "cell_type": "code",
   "execution_count": 39,
   "metadata": {},
   "outputs": [],
   "source": [
    "browser.find_element_by_id(ele_id).click() # 出现后点击"
   ]
  },
  {
   "cell_type": "code",
   "execution_count": 74,
   "metadata": {
    "tags": []
   },
   "outputs": [
    {
     "output_type": "stream",
     "name": "stdout",
     "text": "当前歌单已经转换完成\n"
    }
   ],
   "source": [
    "#等待转换完后 页面出现 ‘再次转换’按钮 其元素可见\n",
    "ele_id = \"ConvertAgain\"\n",
    "param = (By.ID,ele_id)\n",
    "WebDriverWait(browser,10).until(EC.visibility_of_element_located(param)) # 等待该元素出现\n",
    "print(\"当前歌单已经转换完成\")"
   ]
  },
  {
   "cell_type": "code",
   "execution_count": 76,
   "metadata": {},
   "outputs": [],
   "source": [
    "def elementExist_id(ele_id):\n",
    "    '''\n",
    "    用于判断页面上某个id的元素是否存在/出现\n",
    "    '''\n",
    "    try:\n",
    "        browser.find_element_by_id(ele_id)\n",
    "        return True\n",
    "    except:\n",
    "        return False"
   ]
  },
  {
   "cell_type": "code",
   "execution_count": 77,
   "metadata": {},
   "outputs": [],
   "source": [
    "def elementExist_class(class_name):\n",
    "    try:\n",
    "        browser.find_element_by_class_name(class_name)\n",
    "        return True\n",
    "    except:\n",
    "        return False"
   ]
  },
  {
   "cell_type": "code",
   "execution_count": 78,
   "metadata": {
    "tags": []
   },
   "outputs": [
    {
     "output_type": "stream",
     "name": "stdout",
     "text": "1\n"
    }
   ],
   "source": [
    "# 如果有丢失歌曲，就勾选丢失列表复选框\n",
    "ele_id = 'MissingCheckBox'\n",
    "if elementExist_id(ele_id):\n",
    "    browser.find_element_by_id(ele_id).click()\n",
    "    print('1')"
   ]
  },
  {
   "cell_type": "code",
   "execution_count": 81,
   "metadata": {},
   "outputs": [
    {
     "output_type": "execute_result",
     "data": {
      "text/plain": "'https://www.tunemymusic.com/zh-cn/#step5'"
     },
     "metadata": {},
     "execution_count": 81
    }
   ],
   "source": [
    "browser.current_url"
   ]
  },
  {
   "cell_type": "code",
   "execution_count": 79,
   "metadata": {
    "tags": []
   },
   "outputs": [
    {
     "output_type": "execute_result",
     "data": {
      "text/plain": "False"
     },
     "metadata": {},
     "execution_count": 79
    }
   ],
   "source": [
    "# 如果存在丢失的曲目，则将其输入告知用户\n",
    "ele_class = 'PlaylistItem InnerItem Fail'\n",
    "elementExist_class(ele_class)"
   ]
  },
  {
   "cell_type": "markdown",
   "metadata": {},
   "source": [
    "不知道为啥，定位不到丢失歌曲的元素，于是直接获取当前页面源码，然后用beautifulSoup来定位"
   ]
  },
  {
   "cell_type": "code",
   "execution_count": 91,
   "metadata": {},
   "outputs": [
    {
     "output_type": "execute_result",
     "data": {
      "text/plain": "[<div class=\"PlaylistItem InnerItem Fail\" id=\"task32\"><div class=\"TransferringSignParent\"><div class=\"TransferringSign\"><div class=\"RollingParent\"><div class=\"lds-rolling\" style=\"width:100%;height:100%\"><div></div></div></div></div></div><div class=\"PlaylistImageParent\"><div class=\"PlaylistImage DefaultImageTrack\"></div></div><div class=\"NameAndDuration\"><div class=\"PlaylistName\">年少有为 - 李荣</div><div class=\"MovedMissing\"><div class=\"Moved\">已移动</div><div class=\"Missing\">丢失</div></div></div></div>,\n <div class=\"PlaylistItem InnerItem Fail\" id=\"task34\"><div class=\"TransferringSignParent\"><div class=\"TransferringSign\"><div class=\"RollingParent\"><div class=\"lds-rolling\" style=\"width:100%;height:100%\"><div></div></div></div></div></div><div class=\"PlaylistImageParent\"><div class=\"PlaylistImage DefaultImageTrack\"></div></div><div class=\"NameAndDuration\"><div class=\"PlaylistName\">北京东路的日子 - 华语群星</div><div class=\"MovedMissing\"><div class=\"Moved\">已移动</div><div class=\"Missing\">丢失</div></div></div></div>]"
     },
     "metadata": {},
     "execution_count": 91
    }
   ],
   "source": [
    "page_html = browser.page_source\n",
    "soup = BeautifulSoup(page_html, 'html.parser')\n",
    "soup.find_all('div', class_='PlaylistItem InnerItem Fail')"
   ]
  },
  {
   "cell_type": "code",
   "execution_count": 110,
   "metadata": {},
   "outputs": [
    {
     "output_type": "execute_result",
     "data": {
      "text/plain": "['年少有为 - 李荣', '北京东路的日子 - 华语群星']"
     },
     "metadata": {},
     "execution_count": 110
    }
   ],
   "source": [
    "missing_songs = [\n",
    "    ''.join(re.findall('PlaylistName\">(.*?)</div>', str(songTag)))\n",
    "    for songTag in soup.find_all('div', class_='PlaylistItem InnerItem Fail')\n",
    "]\n",
    "missing_songs"
   ]
  },
  {
   "cell_type": "markdown",
   "metadata": {},
   "source": [
    "发现最后一首丢失歌曲的 class和之前的不一样，单独处理一下"
   ]
  },
  {
   "cell_type": "code",
   "execution_count": 111,
   "metadata": {},
   "outputs": [
    {
     "output_type": "execute_result",
     "data": {
      "text/plain": "'北京的日子 - 华语星'"
     },
     "metadata": {},
     "execution_count": 111
    }
   ],
   "source": [
    "''.join(re.findall(\n",
    "    'PlaylistName\">(.*?)</div>',\n",
    "    str(soup.find_all('div', class_='PlaylistItem InnerItem LastTrackOfPlaylist Fail'))\n",
    "))"
   ]
  },
  {
   "cell_type": "code",
   "execution_count": null,
   "metadata": {},
   "outputs": [],
   "source": [
    "把最后一首丢失歌曲放入丢失列表"
   ]
  },
  {
   "cell_type": "code",
   "execution_count": 112,
   "metadata": {},
   "outputs": [
    {
     "output_type": "execute_result",
     "data": {
      "text/plain": "['年少有为 - 李荣', '北京东路的日子 - 华语群星', '北京的日子 - 华语星']"
     },
     "metadata": {},
     "execution_count": 112
    }
   ],
   "source": [
    "missing_songs.append(\n",
    "    ''.join(re.findall(\n",
    "    'PlaylistName\">(.*?)</div>',\n",
    "    str(soup.find_all('div', class_='PlaylistItem InnerItem LastTrackOfPlaylist Fail'))\n",
    "))\n",
    ")\n",
    "missing_songs"
   ]
  },
  {
   "cell_type": "code",
   "execution_count": 121,
   "metadata": {
    "tags": []
   },
   "outputs": [
    {
     "output_type": "stream",
     "name": "stdout",
     "text": "成功转换2首歌曲，丢失如下3首:\n-------------------------\n年少有为 - 李荣\n北京东路的日子 - 华语群星\n北京的日子 - 华语星\n"
    }
   ],
   "source": [
    "bar = '-'*25\n",
    "print('成功转换{}首歌曲，丢失如下{}首:\\n{}\\n{}'.format( # song_list.split('\\n')把字符串转换成list才可以统计歌曲数量\n",
    "    len(song_list.split('\\n')) - len(missing_songs), len(missing_songs),bar,\n",
    "    '\\n'.join(missing_songs)\n",
    "))"
   ]
  }
 ]
}